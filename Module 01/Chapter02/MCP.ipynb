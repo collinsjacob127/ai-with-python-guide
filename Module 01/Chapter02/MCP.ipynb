{
 "cells": [
  {
   "cell_type": "code",
   "execution_count": 5,
   "metadata": {},
   "outputs": [
    {
     "name": "stdout",
     "output_type": "stream",
     "text": [
      "value for threshold calculation [[0.99971133]]\n",
      "Availability of lx [[0.00028867]]\n"
     ]
    },
    {
     "name": "stderr",
     "output_type": "stream",
     "text": [
      "2022-11-13 15:35:59.114492: I tensorflow/stream_executor/cuda/cuda_gpu_executor.cc:980] successful NUMA node read from SysFS had negative value (-1), but there must be at least one NUMA node, so returning NUMA node zero\n",
      "2022-11-13 15:35:59.114645: W tensorflow/core/common_runtime/gpu/gpu_device.cc:1934] Cannot dlopen some GPU libraries. Please make sure the missing libraries mentioned above are installed properly if you would like to use GPU. Follow the guide at https://www.tensorflow.org/install/gpu for how to download and setup the required libraries for your platform.\n",
      "Skipping registering GPU devices...\n"
     ]
    },
    {
     "name": "stderr",
     "output_type": "stream",
     "text": [
      "sh: line 1: tensorboard: command not found\n"
     ]
    }
   ],
   "source": [
    "\n",
    "# McCulloch Pitt Neuron built with Tensorflow and represented with\n",
    "# Tensorboard\n",
    "# Copyright 2018 Denis Rothman MIT License. See LICENSE.\n",
    "\n",
    "import tensorflow.compat.v1 as tf\n",
    "import numpy as np\n",
    "import os\n",
    "\n",
    "tf.disable_eager_execution()\n",
    "\n",
    "PATH = os.getcwd()\n",
    "\n",
    "LOG_DIR = PATH+ '/output/'\n",
    "\n",
    "\n",
    "\n",
    "# 1.Configuration to optimize CPU performance by defining\n",
    "#   thread pools. For this example 4 is enough. A variable\n",
    "#   replace the constant\n",
    "config = tf.ConfigProto(\n",
    "    inter_op_parallelism_threads=4,\n",
    "    intra_op_parallelism_threads=4\n",
    ")\n",
    "\n",
    "# 2.Defining the x values, their w weights,the b bias,y weight calculation\n",
    "#   and the s sigmoid activation function\n",
    "\n",
    "x = tf.placeholder(tf.float32, shape=(1, 5), name='x')\n",
    "w = tf.placeholder(tf.float32, shape=(5, 1), name='w')\n",
    "b = tf.placeholder(tf.float32, shape=(1), name='b')\n",
    "y = tf.matmul(x, w) + b\n",
    "s = tf.nn.sigmoid(y)\n",
    "\n",
    "\n",
    "# 3.Starting a session providing constants as weight inputs\n",
    "#   The Perceptron,a neuron that can learn its weights, will provide  with our present day\n",
    "#   automatic weight calculations\n",
    "with tf.Session(config=config) as tfs:\n",
    "    tfs.run(tf.global_variables_initializer())\n",
    "    \n",
    "    w_t = [[.1, .7, .75, .60, .20]]\n",
    "    x_1 = [[10, 2, 1., 6., 2.]]\n",
    "    b_1 = [1]\n",
    "    w_1 = np.transpose(w_t)\n",
    "    \n",
    "    value = tfs.run(s, \n",
    "        feed_dict={\n",
    "            x: x_1, \n",
    "            w: w_1,\n",
    "            b: b_1\n",
    "        }\n",
    "    )\n",
    "    \n",
    "print ('value for threshold calculation',value)\n",
    "print ('Availability of lx',1-value)\n",
    "         \n",
    "  \n",
    "#___________Tensorboard________________________\n",
    "\n",
    "#with tf.Session() as sess:\n",
    "\n",
    "Writer = tf.summary.FileWriter(LOG_DIR, tfs.graph)\n",
    "Writer.close()\n",
    "\n",
    "\n",
    "def launchTensorBoard():\n",
    "    import os\n",
    "    os.system('tensorboard --logdir='+LOG_DIR)\n",
    "    return\n",
    "\n",
    "import threading\n",
    "t = threading.Thread(target=launchTensorBoard, args=([]))\n",
    "t.start()\n",
    "\n",
    "tfs.close()\n",
    "#Open your browser and go to http://localhost:6006\n",
    "#Try the various options. It is a very useful tool.\n",
    "#close the system window wh1en your finished.\n",
    "\n",
    "\n",
    "\n",
    "    \n"
   ]
  },
  {
   "cell_type": "code",
   "execution_count": null,
   "metadata": {},
   "outputs": [],
   "source": []
  }
 ],
 "metadata": {
  "kernelspec": {
   "display_name": "Python 3.10.8 64-bit",
   "language": "python",
   "name": "python3"
  },
  "language_info": {
   "codemirror_mode": {
    "name": "ipython",
    "version": 3
   },
   "file_extension": ".py",
   "mimetype": "text/x-python",
   "name": "python",
   "nbconvert_exporter": "python",
   "pygments_lexer": "ipython3",
   "version": "3.10.8"
  },
  "orig_nbformat": 4,
  "vscode": {
   "interpreter": {
    "hash": "e7370f93d1d0cde622a1f8e1c04877d8463912d04d973331ad4851f04de6915a"
   }
  }
 },
 "nbformat": 4,
 "nbformat_minor": 2
}
