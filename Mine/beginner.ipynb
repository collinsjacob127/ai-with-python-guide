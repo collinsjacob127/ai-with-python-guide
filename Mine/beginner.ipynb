{
 "cells": [
  {
   "cell_type": "markdown",
   "metadata": {
    "id": "rX8mhOLljYeM"
   },
   "source": [
    "##### Copyright 2019 The TensorFlow Authors."
   ]
  },
  {
   "cell_type": "code",
   "execution_count": 1,
   "metadata": {
    "cellView": "form",
    "execution": {
     "iopub.execute_input": "2022-01-26T05:27:44.503262Z",
     "iopub.status.busy": "2022-01-26T05:27:44.502691Z",
     "iopub.status.idle": "2022-01-26T05:27:44.504677Z",
     "shell.execute_reply": "2022-01-26T05:27:44.505024Z"
    },
    "id": "BZSlp3DAjdYf"
   },
   "outputs": [],
   "source": [
    "#@title Licensed under the Apache License, Version 2.0 (the \"License\");\n",
    "# you may not use this file except in compliance with the License.\n",
    "# You may obtain a copy of the License at\n",
    "#\n",
    "# https://www.apache.org/licenses/LICENSE-2.0\n",
    "#\n",
    "# Unless required by applicable law or agreed to in writing, software\n",
    "# distributed under the License is distributed on an \"AS IS\" BASIS,\n",
    "# WITHOUT WARRANTIES OR CONDITIONS OF ANY KIND, either express or implied.\n",
    "# See the License for the specific language governing permissions and\n",
    "# limitations under the License."
   ]
  },
  {
   "cell_type": "markdown",
   "metadata": {
    "id": "3wF5wszaj97Y"
   },
   "source": [
    "# TensorFlow 2 quickstart for beginners"
   ]
  },
  {
   "cell_type": "markdown",
   "metadata": {
    "id": "DUNzJc4jTj6G"
   },
   "source": [
    "<table class=\"tfo-notebook-buttons\" align=\"left\">\n",
    "  <td>\n",
    "    <a target=\"_blank\" href=\"https://www.tensorflow.org/tutorials/quickstart/beginner\"><img src=\"https://www.tensorflow.org/images/tf_logo_32px.png\" />View on TensorFlow.org</a>\n",
    "  </td>\n",
    "  <td>\n",
    "    <a target=\"_blank\" href=\"https://colab.research.google.com/github/tensorflow/docs/blob/master/site/en/tutorials/quickstart/beginner.ipynb\"><img src=\"https://www.tensorflow.org/images/colab_logo_32px.png\" />Run in Google Colab</a>\n",
    "  </td>\n",
    "  <td>\n",
    "    <a target=\"_blank\" href=\"https://github.com/tensorflow/docs/blob/master/site/en/tutorials/quickstart/beginner.ipynb\"><img src=\"https://www.tensorflow.org/images/GitHub-Mark-32px.png\" />View source on GitHub</a>\n",
    "  </td>\n",
    "  <td>\n",
    "    <a href=\"https://storage.googleapis.com/tensorflow_docs/docs/site/en/tutorials/quickstart/beginner.ipynb\"><img src=\"https://www.tensorflow.org/images/download_logo_32px.png\" />Download notebook</a>\n",
    "  </td>\n",
    "</table>"
   ]
  },
  {
   "cell_type": "markdown",
   "metadata": {
    "id": "04QgGZc9bF5D"
   },
   "source": [
    "This short introduction uses [Keras](https://www.tensorflow.org/guide/keras/overview) to:\n",
    "\n",
    "1. Load a prebuilt dataset.\n",
    "1. Build a neural network machine learning model that classifies images.\n",
    "2. Train this neural network.\n",
    "3. Evaluate the accuracy of the model."
   ]
  },
  {
   "cell_type": "markdown",
   "metadata": {
    "id": "hiH7AC-NTniF"
   },
   "source": [
    "This tutorial is a [Google Colaboratory](https://colab.research.google.com/notebooks/welcome.ipynb) notebook. Python programs are run directly in the browser—a great way to learn and use TensorFlow. To follow this tutorial, run the notebook in Google Colab by clicking the button at the top of this page.\n",
    "\n",
    "1. In Colab, connect to a Python runtime: At the top-right of the menu bar, select *CONNECT*.\n",
    "2. Run all the notebook code cells: Select *Runtime* > *Run all*."
   ]
  },
  {
   "cell_type": "markdown",
   "metadata": {
    "id": "nnrWf3PCEzXL"
   },
   "source": [
    "## Set up TensorFlow\n",
    "\n",
    "Import TensorFlow into your program to get started:"
   ]
  },
  {
   "cell_type": "code",
   "execution_count": 1,
   "metadata": {
    "execution": {
     "iopub.execute_input": "2022-01-26T05:27:44.512188Z",
     "iopub.status.busy": "2022-01-26T05:27:44.511559Z",
     "iopub.status.idle": "2022-01-26T05:27:46.360541Z",
     "shell.execute_reply": "2022-01-26T05:27:46.360926Z"
    },
    "id": "0trJmd6DjqBZ"
   },
   "outputs": [
    {
     "name": "stderr",
     "output_type": "stream",
     "text": [
      "2022-11-13 16:39:36.061674: I tensorflow/core/platform/cpu_feature_guard.cc:193] This TensorFlow binary is optimized with oneAPI Deep Neural Network Library (oneDNN) to use the following CPU instructions in performance-critical operations:  AVX2 FMA\n",
      "To enable them in other operations, rebuild TensorFlow with the appropriate compiler flags.\n",
      "2022-11-13 16:39:36.557267: E tensorflow/stream_executor/cuda/cuda_blas.cc:2981] Unable to register cuBLAS factory: Attempting to register factory for plugin cuBLAS when one has already been registered\n",
      "2022-11-13 16:39:37.539451: W tensorflow/stream_executor/platform/default/dso_loader.cc:64] Could not load dynamic library 'libnvinfer.so.7'; dlerror: libnvinfer.so.7: cannot open shared object file: No such file or directory\n",
      "2022-11-13 16:39:37.539557: W tensorflow/stream_executor/platform/default/dso_loader.cc:64] Could not load dynamic library 'libnvinfer_plugin.so.7'; dlerror: libnvinfer_plugin.so.7: cannot open shared object file: No such file or directory\n",
      "2022-11-13 16:39:37.539566: W tensorflow/compiler/tf2tensorrt/utils/py_utils.cc:38] TF-TRT Warning: Cannot dlopen some TensorRT libraries. If you would like to use Nvidia GPU with TensorRT, please make sure the missing libraries mentioned above are installed properly.\n"
     ]
    },
    {
     "name": "stdout",
     "output_type": "stream",
     "text": [
      "TensorFlow version: 2.10.0\n"
     ]
    }
   ],
   "source": [
    "import tensorflow as tf\n",
    "print(\"TensorFlow version:\", tf.__version__)"
   ]
  },
  {
   "cell_type": "markdown",
   "metadata": {
    "id": "7NAbSZiaoJ4z"
   },
   "source": [
    "If you are following along in your own development environment, rather than [Colab](https://colab.research.google.com/github/tensorflow/docs/blob/master/site/en/tutorials/quickstart/beginner.ipynb), see the [install guide](https://www.tensorflow.org/install) for setting up TensorFlow for development.\n",
    "\n",
    "Note: Make sure you have upgraded to the latest `pip` to install the TensorFlow 2 package if you are using your own development environment. See the [install guide](https://www.tensorflow.org/install) for details.\n",
    "\n",
    "## Load a dataset\n",
    "\n",
    "Load and prepare the [MNIST dataset](http://yann.lecun.com/exdb/mnist/). Convert the sample data from integers to floating-point numbers:"
   ]
  },
  {
   "cell_type": "code",
   "execution_count": 2,
   "metadata": {
    "execution": {
     "iopub.execute_input": "2022-01-26T05:27:46.365379Z",
     "iopub.status.busy": "2022-01-26T05:27:46.364814Z",
     "iopub.status.idle": "2022-01-26T05:27:46.772011Z",
     "shell.execute_reply": "2022-01-26T05:27:46.772378Z"
    },
    "id": "7FP5258xjs-v"
   },
   "outputs": [],
   "source": [
    "mnist = tf.keras.datasets.mnist\n",
    "\n",
    "(x_train, y_train), (x_test, y_test) = mnist.load_data()\n",
    "x_train, x_test = x_train / 255.0, x_test / 255.0"
   ]
  },
  {
   "cell_type": "markdown",
   "metadata": {
    "id": "BPZ68wASog_I"
   },
   "source": [
    "## Build a machine learning model\n",
    "\n",
    "Build a `tf.keras.Sequential` model by stacking layers."
   ]
  },
  {
   "cell_type": "code",
   "execution_count": 13,
   "metadata": {
    "execution": {
     "iopub.execute_input": "2022-01-26T05:27:46.777517Z",
     "iopub.status.busy": "2022-01-26T05:27:46.776955Z",
     "iopub.status.idle": "2022-01-26T05:27:48.368494Z",
     "shell.execute_reply": "2022-01-26T05:27:48.368907Z"
    },
    "id": "h3IKyzTCDNGo"
   },
   "outputs": [],
   "source": [
    "model = tf.keras.models.Sequential([\n",
    "  tf.keras.layers.Flatten(input_shape=(28, 28)),\n",
    "  tf.keras.layers.Dense(128, activation='relu'),\n",
    "  tf.keras.layers.Dropout(0.2),\n",
    "  tf.keras.layers.Dense(10)\n",
    "])"
   ]
  },
  {
   "cell_type": "markdown",
   "metadata": {
    "id": "l2hiez2eIUz8"
   },
   "source": [
    "For each example, the model returns a vector of [logits](https://developers.google.com/machine-learning/glossary#logits) or [log-odds](https://developers.google.com/machine-learning/glossary#log-odds) scores, one for each class."
   ]
  },
  {
   "cell_type": "code",
   "execution_count": 4,
   "metadata": {
    "execution": {
     "iopub.execute_input": "2022-01-26T05:27:48.374609Z",
     "iopub.status.busy": "2022-01-26T05:27:48.374025Z",
     "iopub.status.idle": "2022-01-26T05:27:48.790540Z",
     "shell.execute_reply": "2022-01-26T05:27:48.790949Z"
    },
    "id": "OeOrNdnkEEcR"
   },
   "outputs": [
    {
     "data": {
      "text/plain": [
       "array([[-0.02956348,  0.32859656, -0.5194157 , -0.09125648, -0.43075943,\n",
       "        -0.47412515,  1.252975  , -0.08684272,  0.49900422,  0.08386383]],\n",
       "      dtype=float32)"
      ]
     },
     "execution_count": 4,
     "metadata": {},
     "output_type": "execute_result"
    }
   ],
   "source": [
    "predictions = model(x_train[:1]).numpy()\n",
    "predictions"
   ]
  },
  {
   "cell_type": "markdown",
   "metadata": {
    "id": "tgjhDQGcIniO"
   },
   "source": [
    "The `tf.nn.softmax` function converts these logits to *probabilities* for each class: "
   ]
  },
  {
   "cell_type": "code",
   "execution_count": 5,
   "metadata": {
    "execution": {
     "iopub.execute_input": "2022-01-26T05:27:48.795862Z",
     "iopub.status.busy": "2022-01-26T05:27:48.795263Z",
     "iopub.status.idle": "2022-01-26T05:27:48.799365Z",
     "shell.execute_reply": "2022-01-26T05:27:48.798921Z"
    },
    "id": "zWSRnQ0WI5eq"
   },
   "outputs": [
    {
     "data": {
      "text/plain": [
       "array([[0.07898314, 0.11300075, 0.04839431, 0.07425769, 0.0528807 ,\n",
       "        0.0506365 , 0.2847959 , 0.07458617, 0.13399495, 0.08846983]],\n",
       "      dtype=float32)"
      ]
     },
     "execution_count": 5,
     "metadata": {},
     "output_type": "execute_result"
    }
   ],
   "source": [
    "tf.nn.softmax(predictions).numpy()"
   ]
  },
  {
   "cell_type": "markdown",
   "metadata": {
    "id": "he5u_okAYS4a"
   },
   "source": [
    "Note: It is possible to bake the `tf.nn.softmax` function into the activation function for the last layer of the network. While this can make the model output more directly interpretable, this approach is discouraged as it's impossible to provide an exact and numerically stable loss calculation for all models when using a softmax output. "
   ]
  },
  {
   "cell_type": "markdown",
   "metadata": {
    "id": "hQyugpgRIyrA"
   },
   "source": [
    "Define a loss function for training using `losses.SparseCategoricalCrossentropy`, which takes a vector of logits and a `True` index and returns a scalar loss for each example."
   ]
  },
  {
   "cell_type": "code",
   "execution_count": 6,
   "metadata": {
    "execution": {
     "iopub.execute_input": "2022-01-26T05:27:48.803739Z",
     "iopub.status.busy": "2022-01-26T05:27:48.803070Z",
     "iopub.status.idle": "2022-01-26T05:27:48.805378Z",
     "shell.execute_reply": "2022-01-26T05:27:48.804953Z"
    },
    "id": "RSkzdv8MD0tT"
   },
   "outputs": [],
   "source": [
    "loss_fn = tf.keras.losses.SparseCategoricalCrossentropy(from_logits=True)"
   ]
  },
  {
   "cell_type": "markdown",
   "metadata": {
    "id": "SfR4MsSDU880"
   },
   "source": [
    "This loss is equal to the negative log probability of the true class: The loss is zero if the model is sure of the correct class.\n",
    "\n",
    "This untrained model gives probabilities close to random (1/10 for each class), so the initial loss should be close to `-tf.math.log(1/10) ~= 2.3`."
   ]
  },
  {
   "cell_type": "code",
   "execution_count": 8,
   "metadata": {
    "execution": {
     "iopub.execute_input": "2022-01-26T05:27:48.810506Z",
     "iopub.status.busy": "2022-01-26T05:27:48.809847Z",
     "iopub.status.idle": "2022-01-26T05:27:48.815472Z",
     "shell.execute_reply": "2022-01-26T05:27:48.815041Z"
    },
    "id": "NJWqEVrrJ7ZB"
   },
   "outputs": [
    {
     "data": {
      "text/plain": [
       "1.8534881"
      ]
     },
     "execution_count": 8,
     "metadata": {},
     "output_type": "execute_result"
    }
   ],
   "source": [
    "loss_fn(y_train[:1], predictions).numpy()"
   ]
  },
  {
   "cell_type": "markdown",
   "metadata": {
    "id": "ada44eb947d4"
   },
   "source": [
    "Before you start training, configure and compile the model using Keras `Model.compile`. Set the [`optimizer`](https://www.tensorflow.org/api_docs/python/tf/keras/optimizers) class to `adam`, set the `loss` to the `loss_fn` function you defined earlier, and specify a metric to be evaluated for the model by setting the `metrics` parameter to `accuracy`."
   ]
  },
  {
   "cell_type": "code",
   "execution_count": 7,
   "metadata": {
    "execution": {
     "iopub.execute_input": "2022-01-26T05:27:48.824107Z",
     "iopub.status.busy": "2022-01-26T05:27:48.823498Z",
     "iopub.status.idle": "2022-01-26T05:27:48.828132Z",
     "shell.execute_reply": "2022-01-26T05:27:48.828560Z"
    },
    "id": "9foNKHzTD2Vo"
   },
   "outputs": [],
   "source": [
    "model.compile(optimizer='adam',\n",
    "              loss=loss_fn,\n",
    "              metrics=['accuracy'])"
   ]
  },
  {
   "cell_type": "markdown",
   "metadata": {
    "id": "ix4mEL65on-w"
   },
   "source": [
    "## Train and evaluate your model\n",
    "\n",
    "Use the `Model.fit` method to adjust your model parameters and minimize the loss: "
   ]
  },
  {
   "cell_type": "code",
   "execution_count": 8,
   "metadata": {
    "execution": {
     "iopub.execute_input": "2022-01-26T05:27:48.833350Z",
     "iopub.status.busy": "2022-01-26T05:27:48.832422Z",
     "iopub.status.idle": "2022-01-26T05:28:07.028990Z",
     "shell.execute_reply": "2022-01-26T05:28:07.028493Z"
    },
    "id": "y7suUbJXVLqP"
   },
   "outputs": [
    {
     "name": "stdout",
     "output_type": "stream",
     "text": [
      "Epoch 1/5\n",
      "1875/1875 [==============================] - 2s 1ms/step - loss: 0.2984 - accuracy: 0.9123\n",
      "Epoch 2/5\n",
      "1875/1875 [==============================] - 2s 975us/step - loss: 0.1425 - accuracy: 0.9572\n",
      "Epoch 3/5\n",
      "1875/1875 [==============================] - 2s 975us/step - loss: 0.1065 - accuracy: 0.9668\n",
      "Epoch 4/5\n",
      "1875/1875 [==============================] - 2s 998us/step - loss: 0.0892 - accuracy: 0.9721\n",
      "Epoch 5/5\n",
      "1875/1875 [==============================] - 2s 953us/step - loss: 0.0773 - accuracy: 0.9755\n"
     ]
    },
    {
     "data": {
      "text/plain": [
       "<keras.callbacks.History at 0x7f8af1a17d60>"
      ]
     },
     "execution_count": 8,
     "metadata": {},
     "output_type": "execute_result"
    }
   ],
   "source": [
    "model.fit(x_train, y_train, epochs=5)"
   ]
  },
  {
   "cell_type": "markdown",
   "metadata": {
    "id": "4mDAAPFqVVgn"
   },
   "source": [
    "The `Model.evaluate` method checks the models performance, usually on a \"[Validation-set](https://developers.google.com/machine-learning/glossary#validation-set)\" or \"[Test-set](https://developers.google.com/machine-learning/glossary#test-set)\"."
   ]
  },
  {
   "cell_type": "code",
   "execution_count": 9,
   "metadata": {
    "execution": {
     "iopub.execute_input": "2022-01-26T05:28:07.033439Z",
     "iopub.status.busy": "2022-01-26T05:28:07.032766Z",
     "iopub.status.idle": "2022-01-26T05:28:07.717091Z",
     "shell.execute_reply": "2022-01-26T05:28:07.717439Z"
    },
    "id": "F7dTAzgHDUh7"
   },
   "outputs": [
    {
     "name": "stdout",
     "output_type": "stream",
     "text": [
      "313/313 - 0s - loss: 0.0711 - accuracy: 0.9776 - 289ms/epoch - 924us/step\n"
     ]
    },
    {
     "data": {
      "text/plain": [
       "[0.07105180621147156, 0.9775999784469604]"
      ]
     },
     "execution_count": 9,
     "metadata": {},
     "output_type": "execute_result"
    }
   ],
   "source": [
    "model.evaluate(x_test,  y_test, verbose=2)"
   ]
  },
  {
   "cell_type": "markdown",
   "metadata": {
    "id": "T4JfEh7kvx6m"
   },
   "source": [
    "The image classifier is now trained to ~98% accuracy on this dataset. To learn more, read the [TensorFlow tutorials](https://www.tensorflow.org/tutorials/)."
   ]
  },
  {
   "cell_type": "markdown",
   "metadata": {
    "id": "Aj8NrlzlJqDG"
   },
   "source": [
    "If you want your model to return a probability, you can wrap the trained model, and attach the softmax to it:"
   ]
  },
  {
   "cell_type": "code",
   "execution_count": 12,
   "metadata": {
    "execution": {
     "iopub.execute_input": "2022-01-26T05:28:07.723185Z",
     "iopub.status.busy": "2022-01-26T05:28:07.722542Z",
     "iopub.status.idle": "2022-01-26T05:28:07.737954Z",
     "shell.execute_reply": "2022-01-26T05:28:07.738324Z"
    },
    "id": "rYb6DrEH0GMv"
   },
   "outputs": [],
   "source": [
    "probability_model = tf.keras.Sequential([\n",
    "  model,\n",
    "  tf.keras.layers.Softmax()\n",
    "])"
   ]
  },
  {
   "cell_type": "code",
   "execution_count": 13,
   "metadata": {
    "execution": {
     "iopub.execute_input": "2022-01-26T05:28:07.743563Z",
     "iopub.status.busy": "2022-01-26T05:28:07.742974Z",
     "iopub.status.idle": "2022-01-26T05:28:07.748067Z",
     "shell.execute_reply": "2022-01-26T05:28:07.748461Z"
    },
    "id": "cnqOZtUp1YR_"
   },
   "outputs": [
    {
     "data": {
      "text/plain": [
       "<tf.Tensor: shape=(5, 10), dtype=float32, numpy=\n",
       "array([[2.72807270e-08, 2.42517650e-08, 7.75602894e-06, 1.28684027e-04,\n",
       "        7.66215633e-11, 3.54162950e-07, 3.04894151e-14, 9.99857187e-01,\n",
       "        2.32766553e-08, 5.97762892e-06],\n",
       "       [7.37396704e-08, 4.73638036e-04, 9.99523997e-01, 7.20633352e-07,\n",
       "        4.54133671e-17, 1.42298268e-06, 5.96959016e-09, 1.23534145e-13,\n",
       "        7.77225608e-08, 6.98619169e-16],\n",
       "       [1.95462448e-07, 9.99295831e-01, 1.02249986e-04, 1.86699708e-05,\n",
       "        5.65737491e-06, 1.12115902e-06, 5.32719559e-06, 5.22767776e-04,\n",
       "        4.79981136e-05, 1.76624681e-07],\n",
       "       [9.99649286e-01, 1.80224735e-09, 3.73612856e-05, 1.52324446e-07,\n",
       "        1.30824594e-06, 2.82781020e-05, 6.99703523e-05, 3.30940424e-07,\n",
       "        2.13184350e-07, 2.13106396e-04],\n",
       "       [1.53770895e-06, 1.72272063e-08, 1.98980865e-06, 3.97882580e-08,\n",
       "        9.97192323e-01, 1.10544443e-05, 1.54713348e-06, 2.81727880e-05,\n",
       "        3.48721733e-06, 2.75991508e-03]], dtype=float32)>"
      ]
     },
     "execution_count": 13,
     "metadata": {},
     "output_type": "execute_result"
    }
   ],
   "source": [
    "probability_model(x_test[:5])"
   ]
  },
  {
   "cell_type": "markdown",
   "metadata": {
    "id": "-47O6_GLdRuT"
   },
   "source": [
    "## Conclusion\n",
    "\n",
    "Congratulations! You have trained a machine learning model using a prebuilt dataset using the [Keras](https://www.tensorflow.org/guide/keras/overview) API.\n",
    "\n",
    "For more examples of using Keras, check out the [tutorials](https://www.tensorflow.org/tutorials/keras/). To learn more about building models with Keras, read the [guides](https://www.tensorflow.org/guide/keras). If you want learn more about loading and preparing data, see the tutorials on [image data loading](https://www.tensorflow.org/tutorials/load_data/images) or [CSV data loading](https://www.tensorflow.org/tutorials/load_data/csv).\n"
   ]
  },
  {
   "cell_type": "code",
   "execution_count": 11,
   "metadata": {},
   "outputs": [
    {
     "ename": "AttributeError",
     "evalue": "module 'tensorflow' has no attribute 'PhysicalDevice'",
     "output_type": "error",
     "traceback": [
      "\u001b[0;31m---------------------------------------------------------------------------\u001b[0m",
      "\u001b[0;31mAttributeError\u001b[0m                            Traceback (most recent call last)",
      "Cell \u001b[0;32mIn [11], line 3\u001b[0m\n\u001b[1;32m      1\u001b[0m \u001b[39mimport\u001b[39;00m \u001b[39mtensorflow\u001b[39;00m \u001b[39mas\u001b[39;00m \u001b[39mtf\u001b[39;00m   \u001b[39m# TensorFlow registers PluggableDevices here.\u001b[39;00m\n\u001b[1;32m      2\u001b[0m tf\u001b[39m.\u001b[39mconfig\u001b[39m.\u001b[39mlist_physical_devices()  \u001b[39m# APU device is visible to TensorFlow.\u001b[39;00m\n\u001b[0;32m----> 3\u001b[0m [tf\u001b[39m.\u001b[39;49mPhysicalDevice(name\u001b[39m=\u001b[39m\u001b[39m'\u001b[39m\u001b[39m/physical_device:CPU:0\u001b[39m\u001b[39m'\u001b[39m, device_type\u001b[39m=\u001b[39m\u001b[39m'\u001b[39m\u001b[39mCPU\u001b[39m\u001b[39m'\u001b[39m), PhysicalDevice(name\u001b[39m=\u001b[39m\u001b[39m'\u001b[39m\u001b[39m/physical_device:APU:0\u001b[39m\u001b[39m'\u001b[39m, device_type\u001b[39m=\u001b[39m\u001b[39m'\u001b[39m\u001b[39mAPU\u001b[39m\u001b[39m'\u001b[39m)]\n\u001b[1;32m      5\u001b[0m a \u001b[39m=\u001b[39m tf\u001b[39m.\u001b[39mrandom\u001b[39m.\u001b[39mnormal(shape\u001b[39m=\u001b[39m[\u001b[39m5\u001b[39m], dtype\u001b[39m=\u001b[39mtf\u001b[39m.\u001b[39mfloat32)  \u001b[39m# Runs on CPU.\u001b[39;00m\n\u001b[1;32m      6\u001b[0m b \u001b[39m=\u001b[39m  tf\u001b[39m.\u001b[39mnn\u001b[39m.\u001b[39mrelu(a)         \u001b[39m# Runs on APU.\u001b[39;00m\n",
      "\u001b[0;31mAttributeError\u001b[0m: module 'tensorflow' has no attribute 'PhysicalDevice'"
     ]
    }
   ],
   "source": [
    "import tensorflow as tf   # TensorFlow registers PluggableDevices here.\n",
    "tf.config.list_physical_devices()  # APU device is visible to TensorFlow.\n",
    "[tf.PhysicalDevice(name='/physical_device:CPU:0', device_type='CPU'), PhysicalDevice(name='/physical_device:APU:0', device_type='APU')]\n",
    "\n",
    "a = tf.random.normal(shape=[5], dtype=tf.float32)  # Runs on CPU.\n",
    "b =  tf.nn.relu(a)         # Runs on APU.\n",
    "\n",
    "with tf.device(\"/APU:0\"):  # Users can also use 'with tf.device' syntax.\n",
    "  c = tf.nn.relu(a)        # Runs on APU.\n",
    "\n",
    "with tf.device(\"/CPU:0\"):\n",
    "  c = tf.nn.relu(a)        # Runs on CPU.\n",
    "\n",
    "@tf.function  # Defining a tf.function\n",
    "def run():\n",
    "  d = tf.random.uniform(shape=[100], dtype=tf.float32)  # Runs on CPU.\n",
    "  e = tf.nn.relu(d)        # Runs on APU.\n",
    "\n",
    "run()  # PluggableDevices also work with tf.function and graph mode."
   ]
  }
 ],
 "metadata": {
  "colab": {
   "collapsed_sections": [
    "rX8mhOLljYeM"
   ],
   "name": "beginner.ipynb",
   "toc_visible": true
  },
  "kernelspec": {
   "display_name": "Python 3.10.8 64-bit",
   "language": "python",
   "name": "python3"
  },
  "language_info": {
   "codemirror_mode": {
    "name": "ipython",
    "version": 3
   },
   "file_extension": ".py",
   "mimetype": "text/x-python",
   "name": "python",
   "nbconvert_exporter": "python",
   "pygments_lexer": "ipython3",
   "version": "3.10.8"
  },
  "vscode": {
   "interpreter": {
    "hash": "e7370f93d1d0cde622a1f8e1c04877d8463912d04d973331ad4851f04de6915a"
   }
  }
 },
 "nbformat": 4,
 "nbformat_minor": 0
}
